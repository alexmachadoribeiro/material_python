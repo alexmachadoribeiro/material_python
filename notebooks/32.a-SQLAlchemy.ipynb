{
 "cells": [
  {
   "cell_type": "markdown",
   "id": "a156100f",
   "metadata": {},
   "source": [
    "# **SQLAlchemy com SQLite**\n",
    "---\n",
    "\n",
    "Chegou a hora de utilizarmos o Python para manipularmos o banco de dados. Faremos isso com a biblioteca ***SQLAlchemy***.\n",
    "\n",
    "O SQLAlchemy é uma biblioteca de **mapeamento objeto-relacional (ORM – Object Relational Mapper)** para Python que permite a interação com bancos de dados SQL de forma simplificada e eficiente. Com o SQLAlchemy, você pode criar, editar e manipular bancos de dados utilizando objetos Python, o que facilita a integração e o gerenciamento de dados sem a necessidade de escrever comandos SQL diretamente.\n",
    "\n",
    "A documentação pode ser acessada em https://docs.sqlalchemy.org/en/20/."
   ]
  },
  {
   "cell_type": "markdown",
   "id": "74cced0f",
   "metadata": {},
   "source": [
    "### Instalação\n",
    "\n",
    "A instalação pode ser feita da forma tradicional, como qualquer outra biblioteca Python, através do gerenciador de pacotes **pip**, executando no terminal o comando pip install SQLAlchemy. Essa instalação irá servir para quem quiser usar o **SQLite**, um mini banco de dados que inclusive já vem por padrão junto com o Python. O comando para instalar a biblioteca SQLAlchemy é `pip install sqlalchemy`. O SGBD SQLite não exige a driver, e por esse motivo não precisaremos instalar o driver no nosso ambiente virtual.\n",
    "\n",
    "Instale e prossiga."
   ]
  },
  {
   "cell_type": "markdown",
   "id": "1410a449",
   "metadata": {},
   "source": [
    "**Fonte:** https://www.hashtagtreinamentos.com/banco-de-dados-em-python."
   ]
  },
  {
   "cell_type": "markdown",
   "id": "c07f86ba",
   "metadata": {},
   "source": [
    "## Criando o Banco de Dados\n",
    "---\n",
    "\n",
    "Uma das coisas mais legais em se utilizar o SQLite junto com o Python é que o próprio código Python irá criar o banco e as tabelas, sem a necessidade de qualquer linha de código SQL, como seria necessário se utilizássemos outro SGBD.\n",
    "\n",
    "O SQLAlchemy utiliza o conceito de **engine**, seja para criá-lo ou para se conectar a um banco existente. Para isso, usaremos a função create_engine.\n",
    "\n",
    "Crie uma pasta chamada `database`, e depois crie um novo projeto chamado `banco_python_app` e digite o código abaixo dentro do `main.py`:\n",
    "\n",
    "### banco_python_app"
   ]
  },
  {
   "cell_type": "code",
   "execution_count": null,
   "id": "eebe0bb2",
   "metadata": {},
   "outputs": [],
   "source": [
    "# importa a biblioteca sqlalchemy e a função create_engine\n",
    "from sqlalchemy import create_engine\n",
    "\n",
    "try:\n",
    "    # cria a engine\n",
    "    engine = create_engine(\"sqlite:///database/banco_python_app.db\")\n",
    "except Exception as e:\n",
    "    print(f\"Erro: {e}\")"
   ]
  },
  {
   "cell_type": "markdown",
   "id": "95d16de4",
   "metadata": {},
   "source": [
    "O código acima cria um novo arquivo dentro da pasta `database` chamado `banco_python_app.db`. Ele será o banco de dados da nossa aplicação.\n",
    "\n",
    "O SQLAlchemy suporta diferentes tipos de bancos de dados, como PostgreSQL, MySQL, entre outros. Para utilizá-los, é necessário ter os drivers apropriados instalados e adaptar a string de conexão ao formato correspondente. Caso esteja lidando com um banco de dados online, a string de conexão deve incluir todas as informações necessárias para o login, proporcionando acesso direto. Como estamos utilizando o SQLite, no nosso caso os drivers não serão necessários.\n",
    "\n",
    "Agora, precisaremos criar uma classe que servirá de base para a criação da tabela no banco. Para isso, usaremos o **Declarative Base**."
   ]
  },
  {
   "cell_type": "markdown",
   "id": "25ae5a7b",
   "metadata": {},
   "source": [
    "## Declarative Base\n",
    "---\n",
    "\n",
    "No SQLAlchemy, o `declarative_base` (ou `DeclarativeBase` nas versões mais recentes) é uma classe base que serve como ponto de partida para a definição de modelos **ORM (Object Relational Mapping)**. Ele é usado para criar classes Python que representam tabelas no banco de dados.\n",
    "\n",
    "Função do `declarative_base`:\n",
    "1. **Mapeamento ORM:** Ele conecta as classes Python às tabelas do banco de dados. Cada classe definida a partir do declarative_base é mapeada para uma tabela específica.\n",
    "2. **Metadados:** Ele fornece um objeto metadata que armazena informações sobre todas as tabelas e esquemas definidos no modelo. Isso é útil para criar ou manipular tabelas no banco de dados.\n",
    "3. **Herança:** Todas as classes que representam tabelas no banco de dados devem herdar da classe base criada pelo declarative_base.\n",
    "\n",
    "Benefícios do `declarative_base`:\n",
    "\n",
    "- **Facilidade de uso:** Permite definir tabelas e suas colunas diretamente como classes e atributos Python.\n",
    "- **Integração com o banco de dados:** O SQLAlchemy usa as informações fornecidas pelo declarative_base para criar, alterar ou consultar tabelas no banco de dados.\n",
    "- **Organização:** Ajuda a manter o código limpo e organizado, especialmente em projetos maiores.\n",
    "Em resumo, o declarative_base é essencial para usar o SQLAlchemy como um ORM, permitindo que você trabalhe com tabelas do banco de dados como se fossem objetos Python.\n",
    "\n",
    "Dito tudo isso, acrescente o comando `from sqlalchemy.orm import declarative_base` no início do seu código, na parte de importação de bibliotecas, e em seguida, crie uma instância de `declarative_base()` após a criação da engine:"
   ]
  },
  {
   "cell_type": "code",
   "execution_count": null,
   "id": "8b2e5425",
   "metadata": {},
   "outputs": [],
   "source": [
    "from sqlalchemy import create_engine\n",
    "from sqlalchemy.orm import declarative_base # importa declarative_base\n",
    "\n",
    "try:\n",
    "    engine = create_engine(\"sqlite:///database/banco_python_app.db\")\n",
    "    Base = declarative_base() # instancia declarative_base\n",
    "except Exception as e:\n",
    "    print(f\"Erro: {e}\")"
   ]
  },
  {
   "cell_type": "markdown",
   "id": "52414805",
   "metadata": {},
   "source": [
    "Feito isso, agora vamos criar a classe da qual a tabela do banco irá se basear. \n",
    "\n",
    "Para o nosso exemplo, vamos pensar em uma entidade chamada **usuario**, que irá possuir os seguintes atributos:\n",
    "\n",
    "- ID Usuário\n",
    "- Nome\n",
    "- E-mail\n",
    "- Data de Nascimento\n",
    "\n",
    "A classe que iremos criar irá se basear nessa entidade.\n",
    "\n",
    "Para isso, precisaremos improtar `, Column, Integer, String, Date` na biblioteca `sqlalchemy`:"
   ]
  },
  {
   "cell_type": "code",
   "execution_count": null,
   "id": "0933884e",
   "metadata": {},
   "outputs": [],
   "source": [
    "from sqlalchemy import create_engine, Column, Integer, String, Date # importa , Column, Integer, String, Date\n",
    "from sqlalchemy.orm import declarative_base\n",
    "\n",
    "try:\n",
    "    engine = create_engine(\"sqlite:///database/banco_python_app.db\")\n",
    "    Base = declarative_base()\n",
    "\n",
    "    # cria a classe Usuario\n",
    "    class Usuario(Base):\n",
    "        __tablename__ = \"usuario\"\n",
    "\n",
    "        id_usuario = Column(Integer, primary_key=True, autoincrement=True)\n",
    "        nome = Column(String(255), nullable=False)\n",
    "        email = Column(String(255), nullable=False, unique=True)\n",
    "        data_nasc = Column(Date, nullable=True)\n",
    "except Exception as e:\n",
    "    print(f\"Erro: {e}\")"
   ]
  },
  {
   "cell_type": "markdown",
   "id": "c09defab",
   "metadata": {},
   "source": [
    "Excelente! Agora só precisaremos inserir o comando que, de fato, irá pegar a classe e criar uma tabela no banco a partir dela:"
   ]
  },
  {
   "cell_type": "code",
   "execution_count": null,
   "id": "31c5adcb",
   "metadata": {},
   "outputs": [],
   "source": [
    "from sqlalchemy import create_engine, Column, Integer, String\n",
    "from sqlalchemy.orm import declarative_base, sessionmaker\n",
    "\n",
    "try:\n",
    "    engine = create_engine(\"sqlite:///database/banco_python_app.db\")\n",
    "    Base = declarative_base()\n",
    "\n",
    "    class Usuario(Base):\n",
    "        __tablename__ = \"usuario\"\n",
    "\n",
    "        id_usuario = Column(Integer, primary_key=True, autoincrement=True)\n",
    "        nome = Column(String(255), nullable=False)\n",
    "        email = Column(String(255), nullable=False, unique=True)\n",
    "        data_nasc = Column(Date, nullable=True)\n",
    "\n",
    "    # cria a tabela\n",
    "    Base.metadata.create_all(engine)\n",
    "except Exception as e:\n",
    "    print(f\"Erro ao criar a tabela: {e}\")"
   ]
  },
  {
   "cell_type": "markdown",
   "id": "0078253d",
   "metadata": {},
   "source": [
    "Pronto! Já podemos executar esse código.\n",
    "\n",
    "Ele não exibirá nenhuma saída de dados no terminal, nem estamos usando alguma biblioteca gráfica, porém podemos abrir o banco através da extensão SQLite Viewer. Portanto, **abra o arquivo `banco_python_app.db`**.\n",
    "\n",
    "Você irá ver que a tabela `usuario` foi criada com sucesso dentro do banco de dados, mesmo que a tabela ainda não tenha dados."
   ]
  },
  {
   "cell_type": "markdown",
   "id": "aef60402",
   "metadata": {},
   "source": [
    "<div style=\"display: flex; justify-content: center\">\n",
    "    <img src=\"../assets/32.a-01.png\" alt=\"Tabela\" />\n",
    "</div>"
   ]
  },
  {
   "cell_type": "markdown",
   "id": "acaabf18",
   "metadata": {},
   "source": [
    "## Sessões\n",
    "---\n",
    "\n",
    "Agora que nossa tabela está criada, vamos criar um programa que cadastre um usuário com esses dados. Mas para isso, precisaremos criar uma **Sessão**.\n",
    "\n",
    "O SQLAlchemy utiliza o conceito de sessões para gerenciar transações com o banco de dados. É importante fechar as sessões ao terminar de interagir com o banco de dados. Qualquer operação CRUD que precisar ser feita precisará ter uma sessão aberta durante sua execução, e precisará ser fechada após.\n",
    "\n",
    "Primeiro, vamos criar e inicializar uma nova sessão:"
   ]
  },
  {
   "cell_type": "code",
   "execution_count": null,
   "id": "72306324",
   "metadata": {},
   "outputs": [],
   "source": [
    "try:\n",
    "    # cria a sessão\n",
    "    Session = sessionmaker(bind=engine)\n",
    "    session = Session()\n",
    "except Exception as e:\n",
    "    print(f\"Erro ao inserir registro. {e}\")"
   ]
  },
  {
   "cell_type": "markdown",
   "id": "f3073045",
   "metadata": {},
   "source": [
    "Perfeito. Agora, vamos pedir para o usuário informar um nome, um e-mail e uma data de nascimento a ser cadastrado no banco. Mas antes, vamos improtar a biblioteca `datetime` no início do nosso código:"
   ]
  },
  {
   "cell_type": "code",
   "execution_count": null,
   "id": "67b4c197",
   "metadata": {},
   "outputs": [],
   "source": [
    "from sqlalchemy import create_engine, Column, Integer, String\n",
    "from sqlalchemy.orm import declarative_base, sessionmaker\n",
    "from datetime import datetime # TODO: inclua essa linha"
   ]
  },
  {
   "cell_type": "markdown",
   "id": "7005033a",
   "metadata": {},
   "source": [
    "Agora, vamos incluir os *inputs* dentro de um tratamento de exceção para evitar *crashes*:"
   ]
  },
  {
   "cell_type": "code",
   "execution_count": null,
   "id": "d9f2f566",
   "metadata": {},
   "outputs": [],
   "source": [
    "try:\n",
    "    Session = sessionmaker(bind=engine)\n",
    "    session = Session()\n",
    "\n",
    "    # input do usuário\n",
    "    nome = input(\"Digite o nome do usuário: \")\n",
    "    email = input(\"Digite o email do usuário: \")\n",
    "    while True:\n",
    "        data_nasc_str = input(\"Digite a data de nascimento (dd/mm/aaaa): \").strip()\n",
    "        try:\n",
    "            data_nasc = datetime.strptime(data_nasc_str, \"%d/%m/%Y\").date()\n",
    "            break\n",
    "        except ValueError:\n",
    "            print(\"Data inválida. Use o formato dd/mm/aaaa.\")\n",
    "except Exception as e:\n",
    "    print(f\"Erro ao inserir registro. {e}\")"
   ]
  },
  {
   "cell_type": "markdown",
   "id": "bf78c6bc",
   "metadata": {},
   "source": [
    "Agora, vamos instanciar a classe `Usuario`, setando os valores dos atributos no construtor:"
   ]
  },
  {
   "cell_type": "code",
   "execution_count": null,
   "id": "6482a06d",
   "metadata": {},
   "outputs": [],
   "source": [
    "try:\n",
    "    Session = sessionmaker(bind=engine)\n",
    "    session = Session()\n",
    "\n",
    "    nome = input(\"Digite o nome do usuário: \")\n",
    "    email = input(\"Digite o email do usuário: \")\n",
    "    while True:\n",
    "        data_nasc_str = input(\"Digite a data de nascimento (dd/mm/aaaa): \").strip()\n",
    "        try:\n",
    "            data_nasc = datetime.strptime(data_nasc_str, \"%d/%m/%Y\").date()\n",
    "            break\n",
    "        except ValueError:\n",
    "            print(\"Data inválida. Use o formato dd/mm/aaaa.\")\n",
    "\n",
    "    # instancia a classe Usuario\n",
    "    novo_usuario = Usuario(nome=nome, email=email, data_nasc=data_nasc)\n",
    "except Exception as e:\n",
    "    print(f\"Erro ao inserir registro. {e}\")"
   ]
  },
  {
   "cell_type": "markdown",
   "id": "edfa7b19",
   "metadata": {},
   "source": [
    "Depois, vamos adicionar o novo usuário e *commitar* o comando:"
   ]
  },
  {
   "cell_type": "code",
   "execution_count": null,
   "id": "60b96272",
   "metadata": {},
   "outputs": [],
   "source": [
    "try:\n",
    "    Session = sessionmaker(bind=engine)\n",
    "    session = Session()\n",
    "\n",
    "    nome = input(\"Digite o nome do usuário: \")\n",
    "    email = input(\"Digite o email do usuário: \")\n",
    "    while True:\n",
    "        data_nasc_str = input(\"Digite a data de nascimento (dd/mm/aaaa): \").strip()\n",
    "        try:\n",
    "            data_nasc = datetime.strptime(data_nasc_str, \"%d/%m/%Y\").date()\n",
    "            break\n",
    "        except ValueError:\n",
    "            print(\"Data inválida. Use o formato dd/mm/aaaa.\")\n",
    "\n",
    "    # instancia a classe Usuario\n",
    "    novo_usuario = Usuario(nome=nome, email=email, data_nasc=data_nasc)\n",
    "\n",
    "    # adiciona o novo usuário à sessão e comita\n",
    "    session.add(novo_usuario)\n",
    "    session.commit()\n",
    "except Exception as e:\n",
    "    print(f\"Erro ao inserir registro. {e}\")"
   ]
  },
  {
   "cell_type": "markdown",
   "id": "aaf94c9e",
   "metadata": {},
   "source": [
    "Por fim, exibimos uma mensagem de sucesso e encerramos a sessão:"
   ]
  },
  {
   "cell_type": "code",
   "execution_count": null,
   "id": "7e7d3a8f",
   "metadata": {},
   "outputs": [],
   "source": [
    "try:\n",
    "    Session = sessionmaker(bind=engine)\n",
    "    session = Session()\n",
    "\n",
    "    nome = input(\"Digite o nome do usuário: \")\n",
    "    email = input(\"Digite o email do usuário: \")\n",
    "    while True:\n",
    "        data_nasc_str = input(\"Digite a data de nascimento (dd/mm/aaaa): \").strip()\n",
    "        try:\n",
    "            data_nasc = datetime.strptime(data_nasc_str, \"%d/%m/%Y\").date()\n",
    "            break\n",
    "        except ValueError:\n",
    "            print(\"Data inválida. Use o formato dd/mm/aaaa.\")\n",
    "\n",
    "    # instancia a classe Usuario\n",
    "    novo_usuario = Usuario(nome=nome, email=email, data_nasc=data_nasc)\n",
    "\n",
    "    session.add(novo_usuario)\n",
    "    session.commit()\n",
    "\n",
    "    # imprime mensagem de sucesso\n",
    "    print(\"Registro inserido com sucesso!\")\n",
    "\n",
    "    # fecha a sessão\n",
    "    session.close()\n",
    "except Exception as e:\n",
    "    print(f\"Erro ao inserir registro. {e}\")"
   ]
  },
  {
   "cell_type": "markdown",
   "id": "4e17a24b",
   "metadata": {},
   "source": [
    "O código-fonte completo até aqui está assim:"
   ]
  },
  {
   "cell_type": "code",
   "execution_count": null,
   "id": "25ee213a",
   "metadata": {},
   "outputs": [],
   "source": [
    "from sqlalchemy import create_engine, Column, Integer, String\n",
    "from sqlalchemy.orm import declarative_base, sessionmaker\n",
    "from datetime import datetime\n",
    "\n",
    "try:\n",
    "    engine = create_engine(\"sqlite:///database/banco_python_app.db\")\n",
    "    Base = declarative_base()\n",
    "\n",
    "    class Usuario(Base):\n",
    "        __tablename__ = \"usuario\"\n",
    "\n",
    "        id_usuario = Column(Integer, primary_key=True, autoincrement=True)\n",
    "        nome = Column(String(255), nullable=False)\n",
    "        email = Column(String(255), nullable=False, unique=True)\n",
    "        data_nasc = Column(Date, nullable=True)\n",
    "\n",
    "    Base.metadata.create_all(engine)\n",
    "except Exception as e:\n",
    "    print(f\"Erro ao criar a tabela: {e}\")\n",
    "\n",
    "try:\n",
    "    Session = sessionmaker(bind=engine)\n",
    "    session = Session()\n",
    "\n",
    "    nome = input(\"Digite o nome do usuário: \")\n",
    "    email = input(\"Digite o email do usuário: \")\n",
    "    while True:\n",
    "        data_nasc_str = input(\"Digite a data de nascimento (dd/mm/aaaa): \").strip()\n",
    "        try:\n",
    "            data_nasc = datetime.strptime(data_nasc_str, \"%d/%m/%Y\").date()\n",
    "            break\n",
    "        except ValueError:\n",
    "            print(\"Data inválida. Use o formato dd/mm/aaaa.\")\n",
    "\n",
    "    novo_usuario = Usuario(nome=nome, email=email, data_nasc=data_nasc)\n",
    "\n",
    "    session.add(novo_usuario)\n",
    "    session.commit()\n",
    "\n",
    "    print(\"Registro inserido com sucesso!\")\n",
    "\n",
    "    session.close()\n",
    "except Exception as e:\n",
    "    print(f\"Erro ao inserir registro. {e}\")"
   ]
  },
  {
   "cell_type": "markdown",
   "id": "c7f342ce",
   "metadata": {},
   "source": [
    "Execute o código, e em seguida, abra o arquivo do banco na pasta `database` para ver a mágica acontecer.\n",
    "\n",
    "O resultado deverá mostrar os dados dos usuários cadastrados:"
   ]
  },
  {
   "cell_type": "markdown",
   "id": "83f2f6c6",
   "metadata": {},
   "source": [
    "<div style=\"display: flex; justify-content: center\">\n",
    "    <img src=\"../assets/32.a-02.png\" alt=\"Consulta da tabela\" />\n",
    "</div>"
   ]
  },
  {
   "cell_type": "markdown",
   "id": "0ef171a5",
   "metadata": {},
   "source": [
    "Excelente! Para fins didáticos, vamos criar um *loop* para cadastrar em uma mesma execução vários usuários, fazendo uma limpeza do terminal a cada novo usuário cadastrado. Para isso, acrescente no início do seu código a biblioteca `os`:"
   ]
  },
  {
   "cell_type": "code",
   "execution_count": null,
   "id": "95c65905",
   "metadata": {},
   "outputs": [],
   "source": [
    "# importa biblioteca os\n",
    "import os"
   ]
  },
  {
   "cell_type": "markdown",
   "id": "b24211ee",
   "metadata": {},
   "source": [
    "E depois acrescente o *loop* após o início da sessão, colocando dentro dele o cadastro de usuário, deixando de fora o encerramento da sessão. Fica assim:"
   ]
  },
  {
   "cell_type": "code",
   "execution_count": null,
   "id": "54e6dfe6",
   "metadata": {},
   "outputs": [],
   "source": [
    "try:\n",
    "    Session = sessionmaker(bind=engine)\n",
    "    session = Session()\n",
    "\n",
    "    os.system(\"cls\")\n",
    "\n",
    "    # loop\n",
    "    while True:\n",
    "        cadastrar = input(\"Deseja cadastrar um novo usuário? (s/n): \").strip().lower()\n",
    "        match cadastrar:\n",
    "            case \"s\":\n",
    "                nome = input(\"Digite o nome do usuário: \")\n",
    "                email = input(\"Digite o email do usuário: \")\n",
    "                while True:\n",
    "                    data_nasc_str = input(\"Digite a data de nascimento (dd/mm/aaaa): \").strip()\n",
    "                    try:\n",
    "                        data_nasc = datetime.strptime(data_nasc_str, \"%d/%m/%Y\").date()\n",
    "                        break\n",
    "                    except ValueError:\n",
    "                        print(\"Data inválida. Use o formato dd/mm/aaaa.\")\n",
    "\n",
    "                novo_usuario = Usuario(nome=nome, email=email, data_nasc=data_nasc)\n",
    "\n",
    "                session.add(novo_usuario)\n",
    "                session.commit()\n",
    "\n",
    "                os.system(\"cls\")\n",
    "\n",
    "                print(\"Registro inserido com sucesso!\")\n",
    "\n",
    "                continue\n",
    "            case \"n\":\n",
    "                break\n",
    "            case _:\n",
    "                print(\"Opção inválida. Tente novamente.\")\n",
    "                continue\n",
    "\n",
    "    session.close()\n",
    "except Exception as e:\n",
    "    print(f\"Erro ao inserir registro. {e}\")"
   ]
  },
  {
   "cell_type": "markdown",
   "id": "16237494",
   "metadata": {},
   "source": [
    "Cadastre quantos usuários quiser. Depois de enjoar, execute novamente a consulta SQL no MySQL para visualizar os dados cadastrados:\n",
    "\n",
    "~~~sql\n",
    "SELECT * FROM usuario;\n",
    "~~~"
   ]
  },
  {
   "cell_type": "markdown",
   "id": "cf83e904",
   "metadata": {},
   "source": [
    "<div style=\"display: flex; justify-content: center\">\n",
    "    <img src=\"../assets/32-03.png\" alt=\"Consulta\" />\n",
    "</div>"
   ]
  },
  {
   "cell_type": "markdown",
   "id": "1a05df99",
   "metadata": {},
   "source": [
    "O que faremos agora é fazer o programa exibir estes mesmos dados já cadastrados na tela. Para isso, precisaremos pedir para o Python realizar a consulta no banco. Vamos pedir para o programa fazer isso ao encerramento do mesmo. Acrescente o código abaixo logo após o encerramento do loop e antes de encerrar a sessão:"
   ]
  },
  {
   "cell_type": "code",
   "execution_count": null,
   "id": "60571460",
   "metadata": {},
   "outputs": [],
   "source": [
    "# consulta os usuários cadastrados\n",
    "usuarios = session.query(Usuario).all()\n",
    "\n",
    "# limpa a tela\n",
    "os.system(\"cls\")\n",
    "\n",
    "# lista os usuários cadastrados\n",
    "print(\"\\nUsuários cadastrados:\\n\")\n",
    "for usuario in usuarios:\n",
    "    print(f\"ID: {usuario.id_usuario}\")\n",
    "    print(f\"Nome: {usuario.nome}\")\n",
    "    print(f\"Email: {usuario.email}\")"
   ]
  },
  {
   "cell_type": "markdown",
   "id": "161ae4bc",
   "metadata": {},
   "source": [
    "## Código-fonte final\n",
    "---\n",
    "\n",
    "O código-fonte final desse programa deverá ser esse:"
   ]
  },
  {
   "cell_type": "code",
   "execution_count": null,
   "id": "e7370002",
   "metadata": {},
   "outputs": [
    {
     "name": "stdout",
     "output_type": "stream",
     "text": [
      "\n",
      "Usuários cadastrados:\n",
      "\n",
      "ID: 1\n",
      "Nome: Alex Machado\n",
      "Email: alex@gmail.com\n",
      "ID: 2\n",
      "Nome: Fulano de Tal\n",
      "Email: fulano@gmail.com\n",
      "ID: 3\n",
      "Nome: Cicrano da Silva\n",
      "Email: cicrano@gmail.com\n",
      "ID: 4\n",
      "Nome: Beltrano de Souza\n",
      "Email: beltrano@gmail.com\n",
      "ID: 5\n",
      "Nome: João\n",
      "Email: joao@gmail.com\n"
     ]
    }
   ],
   "source": [
    "from sqlalchemy import create_engine, Column, Integer, String\n",
    "from sqlalchemy.orm import declarative_base, sessionmaker\n",
    "import os\n",
    "\n",
    "try:\n",
    "    engine = create_engine(\"sqlite:///database/banco_python_app.db\")\n",
    "    Base = declarative_base()\n",
    "\n",
    "    class Usuario(Base):\n",
    "        __tablename__ = \"usuario\"\n",
    "\n",
    "        id_usuario = Column(Integer, primary_key=True, autoincrement=True)\n",
    "        nome = Column(String(255), nullable=False)\n",
    "        email = Column(String(255), nullable=False, unique=True)\n",
    "\n",
    "    Base.metadata.create_all(engine)\n",
    "except Exception as e:\n",
    "    print(f\"Erro ao criar a tabela: {e}\")\n",
    "\n",
    "try:\n",
    "    Session = sessionmaker(bind=engine)\n",
    "    session = Session()\n",
    "\n",
    "    os.system(\"cls\")\n",
    "\n",
    "    while True:\n",
    "        cadastrar = input(\"Deseja cadastrar um novo usuário? (s/n): \").strip().lower()\n",
    "        match cadastrar:\n",
    "            case \"s\":\n",
    "                nome = input(\"Digite o nome do usuário: \")\n",
    "                email = input(\"Digite o email do usuário: \")\n",
    "\n",
    "                novo_usuario = Usuario(nome=nome, email=email)\n",
    "\n",
    "                session.add(novo_usuario)\n",
    "                session.commit()\n",
    "\n",
    "                os.system(\"cls\")\n",
    "\n",
    "                print(\"Registro inserido com sucesso!\")\n",
    "\n",
    "                continue\n",
    "            case \"n\":\n",
    "                break\n",
    "            case _:\n",
    "                print(\"Opção inválida. Tente novamente.\")\n",
    "                continue\n",
    "\n",
    "    usuarios = session.query(Usuario).all()\n",
    "\n",
    "    os.system(\"cls\")\n",
    "\n",
    "    print(\"\\nUsuários cadastrados:\\n\")\n",
    "    for usuario in usuarios:\n",
    "        print(f\"ID: {usuario.id_usuario}\")\n",
    "        print(f\"Nome: {usuario.nome}\")\n",
    "        print(f\"Email: {usuario.email}\")\n",
    "    session.close()\n",
    "except Exception as e:\n",
    "    print(f\"Erro ao inserir registro. {e}\")"
   ]
  }
 ],
 "metadata": {
  "kernelspec": {
   "display_name": ".venv (3.13.5)",
   "language": "python",
   "name": "python3"
  },
  "language_info": {
   "codemirror_mode": {
    "name": "ipython",
    "version": 3
   },
   "file_extension": ".py",
   "mimetype": "text/x-python",
   "name": "python",
   "nbconvert_exporter": "python",
   "pygments_lexer": "ipython3",
   "version": "3.13.5"
  }
 },
 "nbformat": 4,
 "nbformat_minor": 5
}
