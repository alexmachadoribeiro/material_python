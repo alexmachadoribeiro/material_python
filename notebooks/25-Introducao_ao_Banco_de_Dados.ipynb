{
 "cells": [
  {
   "cell_type": "markdown",
   "metadata": {},
   "source": [
    "# **Introdução ao Banco de Dados**\n",
    "---"
   ]
  },
  {
   "cell_type": "markdown",
   "metadata": {},
   "source": [
    "## Pré-requisitos da aula\n",
    "\n",
    "- Aula Inaugural\n",
    "\n",
    "---"
   ]
  },
  {
   "cell_type": "markdown",
   "metadata": {},
   "source": [
    "## A Importância dos dados\n",
    "---\n",
    "\n",
    "### O que é um Dado?\n",
    "\n",
    "Como aprendemos no curso de Informática Básica, um **Dado** é a **menor parte da informação**. Também pode ser descrito como **a matéria-prima da informação**, e ainda como **um valor que pode ser atribuído a alguma coisa**.\n",
    "\n",
    "Desde o início do Século XXI, o dado é chamado pelos especialistas de **\"o novo ouro\"**, devido à sua importância no contexto mundial atual. A questão, é que assim como o ouro deve ser minerado e polido para ter algum valor, o dado precisa ser tratado para que tenha alguma importância, já que, isoladamente, não serve para muita coisa.\n",
    "\n",
    "#### Como assim?\n",
    "\n",
    "Vamos pensar em um exemplo simples: pense na palavra **Violeta**. Pensou? Pronto! Agora me responda: o que eu quis dizer com essa palavra? Se eu não fornecer mais informações, essa palavra não terá sentido para você, e consequentemente, ela será inútil.\n",
    "\n",
    "Agora, vamos pegar essa palavra, e inseri-la dentro de um contexto. Observe a seguinte frase:\n",
    "\n",
    "**\"O vestido da minha mãe é da cor Violeta.\"**\n",
    "\n",
    "Pronto! Veja como o sentido da palavra agora parece muito mais claro: sabemos que a palavra Violeta agora se refere à cor de um vestido. Só que essa mesma exata palavra pode ganhar um significado completamente diferente, se a inserirmos dentro de outro contexto. Observe:\n",
    "\n",
    "**\"O nome da minha irmã é Violeta.\"**\n",
    "\n",
    "Agora a palavra Violeta ganhou outro significado completamente diferente, significando aqui o nome de uma pessoa. Para que a palavra ganhe algum sentido, é necessário que seja somado a ela outros dados, para que no final esses dados formem uma **informação** completa e inteligível. E uma informação, dependendo de como for usada, pode ser a coisa mais poderosa do mundo.\n",
    "\n",
    "### E o que é uma informação?\n",
    "\n",
    "Informação é o conjunto de dados organizados e processados, que transmitem significado e compreensão. É a base para a construção do conhecimento. A palavra informação tem origem no latim informatio, que significa dar forma, moldar na mente. É útil para a tomada de decisão, pois pode responder a perguntas, solucionar problemas ou transmitir uma mensagem."
   ]
  },
  {
   "cell_type": "markdown",
   "metadata": {},
   "source": [
    "## O que é um Banco de Dados?\n",
    "---\n",
    "\n",
    "Chamamos de **Banco de Dados** uma coletânia de dados guardados em um local físico **(hardware)**. Para que esses dados tenham utilidade, eles são gerenciados por um sistema **(software)** que chamamos de **Sistema Gerenciador de Banco de Dados**, mais popularmente conhecido pela sua sigla: **SGBD**. Esse sistema permite que os dados sejam categorizados, armazenados, consultados e enviados para o usuário através do programa do qual o usuário acessa. Exemplo: Redes Sociais, IRRF, E-Mail, etc...\n",
    "\n",
    "### Como funciona?\n",
    "\n",
    "1. O usuário acessa a aplicação desejada (rede social, sistema de cadastro, imposto de renda, etc...).\n",
    "2. Essa aplicação possui o que chamamos de **Front-End**, que é nada mais do que a parte da aplicação que o usuário tem acesso, ou seja, as telas da aplicação. São nessas telas que o usuário irá acessar um formulário de cadastro, ou então uma tela de consulta para consultar os dados já cadastrados.\n",
    "3. Ao informar os dados e clicar em um botão, geralmente o botão **Cadastrar**, **Pesquisar**, **Enviar**, ou qualquer outro que envie uma solicitação do usuário ao programa, a aplicação irá enviar uma requisição pela rede para uma outra máquina conectada a essa mesma rede. Essa rede pode ser uma rede local, uma Intranet ou mesmo a Internet.\n",
    "4. A máquina que o usuário está usando chamamos de **Cliente**. Já o computador que irá receber a requisição do usuário (e do qual o usuário não tem acesso físico) chamamos de **Servidor**.\n",
    "5. O Servidor possui uma outra parte da aplicação que faz o tratamento dos dados e cuida da segurança, que chamamos de **Back-End**. Ele irá receber os dados do usuário, tratá-los e enviar para o SGBD, que está instalado no Servidor.\n",
    "6. Os dados que o SGBD irá acessar estão armazenados no HD do Servidor. O SGBD irá realizar a consulta, enviar para o Back-End, que irá tratar os dados e enviar os dados para o Front-End, possibilitando que o usuário possa consultar ou salvar os dados.\n",
    "\n",
    "Segue abaixo o diagrama explicando o funcionamento de um banco de dados:"
   ]
  },
  {
   "cell_type": "markdown",
   "metadata": {},
   "source": [
    "<div style=\"display: flex; justify-content: center\">\n",
    "    <img src=\"../assets/como-funcionam-os-bancos-de-dados.webp\" alt=\"Funcionamento de um banco de dados\" width=800 />\n",
    "</div>"
   ]
  },
  {
   "cell_type": "markdown",
   "metadata": {},
   "source": [
    "## Linha do tempo do Banco de Dados\n",
    "---\n",
    "\n",
    "### 1940 – Origem da tecnologia\n",
    "\n",
    "A origem da tecnologia do banco de dados é relacionada aos data centers, construídos na década de 40. Os bancos de dados serviam para propósitos governamentais, científicos e até mesmo militares, como o ENIAC (Electronic Numerical Integrator and Computer). Esses dispositivos eram complexos e tinham alto custo de desenvolvimento, configuração e funcionamento.\n",
    "\n",
    "### 1960 – O primeiro banco de dados\n",
    "\n",
    "O primeiro banco de dados surgiu no início dos anos 60, suas funcionalidades eram simples e inflexíveis, como o caso do banco de dados hierárquico.\n",
    "\n",
    "Foram desenvolvidos dois principais modelos de dados: modelo em rede (CODASYL - Comitee for Data Systems Language) e o modelo hierárquico (IMS – Information Management System). O acesso ao BD é feito através de operações de ponteiros de baixo nível que unem (link) os registros. Detalhes de armazenamento dependiam do tipo de informação a ser armazenada, desta forma, a adição de um campo extra necessitava de uma reescrita dos fundamentos de acesso/modificação do esquema. Os usuários precisavam conhecer a estrutura física do BD para poder realizar uma consulta.\n",
    "\n",
    "#### Modelo de dados em rede\n",
    "\n",
    "- Os primeiros trabalhos foram realizados em 1964 por Charles Bachman;\n",
    "- Dados são representados por uma coleção de registros e os relacionamentos por meio de links;\n",
    "- É representado por um diagrama constituído por caixas e linhas;\n",
    "- São usados apenas relacionamentos muitos-para-muitos.\n",
    "\n",
    "#### Modelo de dados hierárquico\n",
    "\n",
    "- Também se utilizava de registros para representar os dados e links para os relacionamentos;\n",
    "- São organizados na forma de uma árvore com raiz.\n",
    "\n",
    "### 1970 – Importância nacional\n",
    "\n",
    "Na década de 70 os bancos de dados já eram utilizados em projetos de importância nacional, como no centro nacional de dados climáticos dos Estados Unidos.\n",
    "\n",
    "Edgar Frank Codd propõe o modelo de dados relacional, que se tornou um marco em como pensar em banco de dados. Ele desconectou a estrutura lógica do banco de dados do método de armazenamento físico. Este sistema se tornou padrão desde então. Muitas discussões a respeito do valor da competição entre os sistemas enquanto a teoria de banco de dados conduz ao objetivo final de projeto de pesquisa.\n",
    "\n",
    "O termo Sistema de Gerenciamento de Banco de Dados Relacional (SGBDR – RDBMS em inglês) foi definido durante este período.\n",
    "\n",
    "O Dr. Peter Chen propõe o modelo Entidade-Relacionamento (ER) para projetos de banco de dados dando uma nova e importante percepção dos conceitos de modelos de dados. Assim como as linguagens de alto nível, a modelagem ER possibilita ao projetista concentrar-se apenas na utilização dos dados, sem se preocupar com estrutura lógica de tabelas.\n",
    "\n",
    "### 1980 – Popularidade\n",
    "\n",
    "O banco de dados relacional passou a ganhar popularidade nos anos 80 como uma forma de contornar a inflexibilidade dos primeiros modelos. A comercialização de sistemas relacionais começa a virar uma febre entre as organizações.\n",
    "\n",
    "A Linguagem Estruturada de Consulta – SQL (Structured Query Language) se torna um padrão mundial. A IBM transforma o DB2 como carro chefe da empresa em produtos para BD. Os modelos em rede e hierárquico passam a ficar em segundo plano praticamente sem desenvolvimentos utilizando seus conceitos, porém vários sistemas legados continuam em uso. O desenvolvimento do IBM PC desperta muitas empresas e produtos de BD como: RIM, RBASE 5000, PARADOX, OS/2 Database Manager, Dbase III e IV (mais tarde transformado em FoxBase e mais tarde ainda como Visual FoxPro), Watcom SQL, entre outros.\n",
    "\n",
    "### 1990 – Desenvolvimento\n",
    "\n",
    "Em 1990 graças ao avanço da tecnologia os bancos de dados evoluíram e se tornaram menores e mais baratos, junto ao surgimento de bancos de dados orientados por meio de objetos.\n",
    "\n",
    "Tem início uma leve crise econômica nas indústrias e algumas empresas sobrevivem oferecendo alguns produtos a custos muito elevados. Muito desenvolvimento acontece em ferramentas de desenvolvimento para o desktop no desenvolvimento de aplicações (client tolls), tais como: PowerBuilder (Sybase), Oracle Developer, Visual Basic (Microsoft), entre outros.\n",
    "\n",
    "O modelo cliente-servidor (client-server) passa a ser uma regra para futuras decisões de negócio e vemos o desenvolvimento de ferramentas de produtividade como Excel/Access (Microsoft) e ODBC, também é marcado como o início dos protótipos de Object Database Management Systems (ODBMS).\n",
    "\n",
    "É quando vemos a explosão da Internet./WWW e uma louca corrida para prover acesso remoto a sistemas de computadores com dados legados. Percebe-se um crescimento exponencial na tecnologia Web/BD.\n",
    "\n",
    "Aumentam o uso de soluções de código aberto (open source) através de gcc, cgi, Apache, MySQL, etc.\n",
    "\n",
    "Processos de transação em tempo real (OLTP - On-Line Transaction Process) e processos analíticos em tempo real (OLAP – On-Line Analitical Process) atingem maturidade através de muitos negócios utilizando os PDVs (Ponto de Venda).\n",
    "\n",
    "O grande investimento em empresas de Internet impulsiona as vendas de ferramentas para conexão Web/Internet/BD. Active Server Pages, Front Page, Java Servlets, JDBC, Enterprise Java Beans, ColdFusion, Dream Weaver, Oracle Developer 2000, são um exemplo dessas ferramentas.\n",
    "\n",
    "### Século XXI\n",
    "\n",
    "No início do novo milênio a popularização da internet resultou em uma alta demanda por novos recursos e uma maior capacidade de processamento alavancou a evolução dos bancos de dados.\n",
    "\n",
    "Atualmente as empresas utilizam bancos de dados autônomos e descentralizados a fim de aproveitar a tecnologia de cloud computing, sendo essa uma nova forma de armazenar, coletar e manipular dados."
   ]
  },
  {
   "cell_type": "markdown",
   "metadata": {},
   "source": [
    "## Tipos de Bancos de Dados\n",
    "---\n",
    "\n",
    "Atualmente, existem dois tipos de bancos de dados:\n",
    "\n",
    "- **Banco de dados relacional** – Os dados são armazenados em tabelas com linhas e colunas específicas que definem os dados. Eles usam uma linguagem conhecida como **Structured Query Language (SQL)**.\n",
    "- **Banco de dados não relacional** – Segue uma linguagem NoSQL, dessa forma os campos não são limitados igual ao SQL. Os dados são alocados em pastas, fator que possibilita a definição de um esquema personalizado, além de permitir a adição de novas propriedades sem que impacte as outras informações armazenadas.\n",
    "\n",
    "**Obs:** o tipo de banco de dados que iremos aprender no curso é do tipo **relacional**."
   ]
  },
  {
   "cell_type": "markdown",
   "metadata": {},
   "source": [
    "## Ranking dos Bancos de Dados mais usados no mundo\n",
    "---\n",
    "\n",
    "De acordo com o site **DB-Engines** (https://db-engines.com/en/ranking), segue abaixo a lista dos 10 SGBDs mais usados no mundo:"
   ]
  },
  {
   "cell_type": "markdown",
   "metadata": {},
   "source": [
    "<div style=\"display: flex; justify-content: center\">\n",
    "    <img src=\"../assets/ranking-db.png\" alt=\"Ranking bancos de dados\" />\n",
    "</div>"
   ]
  },
  {
   "cell_type": "markdown",
   "metadata": {},
   "source": [
    "Observe que o SGBD mais usado no mundo é o da Oracle, seguido do MySQL, e depois do MS SQL Server. Nas 4ª e 5ª posição seguem o PostgreeSQL e o MongoDB. Destes, apenas o MongoDB é um SGBD não-relacional. Todos os que estão nas 4 primeiras posições são SGBDs relacionais, o que significa que todos eles usam a linguagem SQL para trabalhar com banco de dados."
   ]
  },
  {
   "cell_type": "markdown",
   "metadata": {},
   "source": [
    "## Qual SGBD iremos utilizar no curso?\n",
    "---\n",
    "\n",
    "Como o curso é voltado para o banco de dados do tipo relacional, qualquer SGBD que utilize a linguagem SQL poderia servir, mas para fins de simplificação, iremos utilizar o **SQLite**.\n",
    "\n",
    "### Por que o SQLite?\n",
    "\n",
    "O SQLite é um \"mini\" banco de dados isntalado localmente, no diretório da própria aplicação. Normalmente, precisaríamos baixar o SQLite na nossa máquina para que ele funcione, mas ele já vem por padrão dentro da instalação do Python. Dessa forma, não precisamos baixar nem instalar o SQLite, da mesma forma que não precisaremos nos preocupar com configuração do servidor de banco de dados. Se precisarmos acessar o banco, podemos usar a extensão **SQLite Viewer** instalada anteriormente."
   ]
  },
  {
   "cell_type": "markdown",
   "metadata": {},
   "source": [
    "\n",
    "**Fonte:**\n",
    "- https://kondado.com.br/blog/blog/2022/09/13/banco-de-dados-o-que-e-e-quais-sao-os-principais-tipos/\n",
    "- https://www.devmedia.com.br/a-historia-dos-banco-de-dados/1678\n",
    "- https://www.devmedia.com.br/conceitos-fundamentais-de-banco-de-dados/1649\n",
    "- https://www.alura.com.br/artigos/banco-de-dados\n",
    "- https://db-engines.com/en/ranking"
   ]
  }
 ],
 "metadata": {
  "language_info": {
   "name": "python"
  }
 },
 "nbformat": 4,
 "nbformat_minor": 2
}
