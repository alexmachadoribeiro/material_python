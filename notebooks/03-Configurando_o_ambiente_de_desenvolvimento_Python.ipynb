{
 "cells": [
  {
   "cell_type": "markdown",
   "metadata": {},
   "source": [
    "# **Configurando o ambiente de desenvolvimento Python**\n",
    "---\n",
    "\n",
    "## Pré-requisitos da aula\n",
    "\n",
    "- Introdução ao Python\n",
    "\n",
    "---"
   ]
  },
  {
   "cell_type": "markdown",
   "metadata": {},
   "source": [
    "### Conhecendo os programas a serem instalados\n",
    "\n",
    "Antes de começarmos a programar em Python, precisaremos configurar o nosso ambiente, o que na prática significa instalar alguns programas. São eles:\n",
    "\n",
    "- Python 3.x\n",
    "- Visual Studio Code (VSCode) ou PyCharm (ou outra IDE de sua preferência)\n",
    "- Git (ou outro controlador de versão de sua preferência)\n",
    "- Uma conta na plataforma do GitHub: https://github.com.\n",
    "\n",
    "Além desses, caso deseje se aprofundar mais nos estudos, os programas abaixo são recomendados, mas não serão objetos de estudo para este curso, e portanto, fica a seu critério se deseja instalá-los ou não:\n",
    "\n",
    "- GitHub Desktop\n",
    "- Anaconda\n",
    "- PyCharm"
   ]
  },
  {
   "cell_type": "markdown",
   "metadata": {},
   "source": [
    "## Verificando a versão do Python na máquina\n",
    "---"
   ]
  },
  {
   "cell_type": "markdown",
   "metadata": {},
   "source": [
    "Antes de tudo, precisaremos verificar se o Python está instalado na máquina.\n",
    "\n",
    "Caso a sua máquina possua um ***Linux*** como Sistema Operacional, provavelmente o Python já está instalado, mas poderá ser necessário a atualização dele. No caso do **Windows**, pode ser necessário a instalação, mas antes iremos verificar se sua máquina já possui ou não o Python, e caso possua, qual versão está sendo utilizada."
   ]
  },
  {
   "cell_type": "markdown",
   "metadata": {},
   "source": [
    "1. Abra o **Terminal** do seu SO. Se for Windows, é o **Prompt de Comando**. Isso pode ser feito no Windows usando a tecla de atalho **Ctrl+R** e digitando `cmd` na caixa de diálogo.\n",
    "2. No terminal ou prompt de comando, digite `python --version` (dois hífens) ou `python -V` (um hífen e \"V\" maiúsculo). Ambos os comandos funcionam."
   ]
  },
  {
   "cell_type": "markdown",
   "metadata": {},
   "source": [
    "<div style=\"display: flex; justify-content: center\">\n",
    "    <img src=\"../assets/janela-cmd-python-version.png\" alt=\"Verificando a versão do Python\" />\n",
    "</div>\n",
    "<div style=\"display: flex; justify-content: center\">\n",
    "    <img src=\"../assets/janela-cmd-python-version-2.png\" alt=\"Outro comando para verificar a versão do Python\" />\n",
    "</div>"
   ]
  },
  {
   "cell_type": "markdown",
   "metadata": {},
   "source": [
    "3. Se der certo, irá aparecer a versão do Python reconhecida pelo seu SO. A versão mais recente do Python no momento da elaboração desse material é a **3.13.0**. Pule o próximo passo e vá para a instalação do Git. Caso o comando não seja reconhecido, é porque o Python não está instalado. E aí será necessário a sua instalação. Siga para o próximo passo."
   ]
  },
  {
   "cell_type": "markdown",
   "metadata": {},
   "source": [
    "## Instalando o Python (caso não tenha instalado)\n",
    "---"
   ]
  },
  {
   "cell_type": "markdown",
   "metadata": {},
   "source": [
    "A primeira coisa a ser feita é instalar o Python. O tutorial a seguir serve para a instalação do Python em ambiente Windows:\n",
    "\n",
    "1. Acesse o site do Python: https://www.python.org/downloads/"
   ]
  },
  {
   "cell_type": "markdown",
   "metadata": {},
   "source": [
    "<div style=\"display: flex; justify-content: center\">\n",
    "    <img src=\"../assets/janela-browser-python-download.png\" alt=\"Tela de download do Python\" />\n",
    "</div>"
   ]
  },
  {
   "cell_type": "markdown",
   "metadata": {},
   "source": [
    "2. Em destaque está o botão da versão mais recente lançada, que no momento da montagem deste material era a **3.13.0** (lançada em 7 de Outubro de 2024). Entretanto, algumas bibliotecas (assunto que será estudado mais para frente no curso) podem não rodar na versão mais recente. Por esse motivo, pode ser interessante manter em seu computador a versão anterior do Python, que neste caso era a versão **3.12.7** (lançada em 1 de Outubro de 2024). Você pode manter as duas versões em seu computador. Para instalar a versão anterior, desça a barra de rolagem até a imagem abaixo:"
   ]
  },
  {
   "cell_type": "markdown",
   "metadata": {},
   "source": [
    "<div style=\"display: flex; justify-content: center\">\n",
    "    <img src=\"../assets/janela-browser-python-3.12.7-download.png\" alt=\"Download do Python 3.12.7\" />\n",
    "</div>"
   ]
  },
  {
   "cell_type": "markdown",
   "metadata": {},
   "source": [
    "3. Você pode instalar a versão 3.13.0 ou a versão 3.12.7, ou outra anterior, caso haja a necessidade. Você decide.\n",
    "4. Ao iniciar a instalação no Windows, irá aparecer a janela abaixo:"
   ]
  },
  {
   "cell_type": "markdown",
   "metadata": {},
   "source": [
    "<div style=\"display: flex; justify-content: center\">\n",
    "    <img src=\"../assets/python-instalacao-1.png\" alt=\"Instalação do Python\" width=700 />\n",
    "</div>"
   ]
  },
  {
   "cell_type": "markdown",
   "metadata": {},
   "source": [
    "5. Antes de prosseguir com a instalação, repare que há duas caixas de seleção na parte de baixo da janela:\n",
    "- **Use admin privileges when installin py.exe**: esta opção permite que o Python seja instalado em todos os usuários da máquina. Dessa forma, não teríamos a necessidade de instalar o Python para cada usuário que fosse desenvolver na linguagem. Entretanto, para isso, é **necessário ter acesso administrador à máquina**. Caso isso seja verdadeiro, marque essa opção.\n",
    "- **Add python.exe to PATH**: esta opção permite adicionar o caminho do arquivo principal do Python ao PATH. Isso é necessário para evitar que você tenha que indicar manualmente o caminho do Python para cada novo projeto que iniciar, economizando tempo e tornando o processo de criação do ambiente virtual, necessário para os projetos que exijam a instalação de pacotes, mais fácil. **MARQUE ESSA OPÇÃO!!!**\n",
    "6. Antes da instalação, a janela deverá ficar como na imagem abaixo:\n"
   ]
  },
  {
   "cell_type": "markdown",
   "metadata": {},
   "source": [
    "<div style=\"display: flex; justify-content: center\">\n",
    "    <img src=\"../assets/python-instalacao-2.png\" alt=\"Marcações da instalação do Python\" width=700 />\n",
    "</div>"
   ]
  },
  {
   "cell_type": "markdown",
   "metadata": {},
   "source": [
    "7. Se as duas caixas de seleção estiverem marcadas (principalmente a segunda), clique em **Install Now**:"
   ]
  },
  {
   "cell_type": "markdown",
   "metadata": {},
   "source": [
    "<div style=\"display: flex; justify-content: center\">\n",
    "    <img src=\"../assets/python-instalacao-3.png\" alt=\"Iniciando a instalação do Python\" width=700 />\n",
    "</div>"
   ]
  },
  {
   "cell_type": "markdown",
   "metadata": {},
   "source": [
    "8. Prossiga com a instalação normalmente até finalizar, e o Python estará instalado com sucesso.\n",
    "\n",
    "**Obs:** a instalação do Python é importante para os próximos passos, e embora seja possível instalar o Python depois, é mais interessante começar as instalações dos programas por ele. Outro ponto importante a se ressaltar, é que no caso dos devs que usam Linux, o Python já vem instalado por padrão. Talvez a única coisa necessária a se fazer nesse caso é atualizar o Python. Siga as instruções do site para realizar a atualização."
   ]
  },
  {
   "cell_type": "markdown",
   "metadata": {},
   "source": [
    "## Atualizando o Python (caso já tenha instalado mas precise atualizar)\n",
    "---"
   ]
  },
  {
   "cell_type": "markdown",
   "metadata": {},
   "source": [
    "É claro que dá para ir no site do Python, baixar uma versão mais recente e instalar, mas esse processo pode ser feito pelo terminal também.\n",
    "\n",
    "### E por que atualizaríamos o Python?\n",
    "\n",
    "#### Segurança\n",
    "\n",
    "Manter o Python atualizado é essencial para garantir a segurança do seu sistema. As atualizações regulares incluem correções de segurança que protegem contra vulnerabilidades conhecidas. Ao atualizar o Python pelo terminal, você garante que está utilizando a versão mais recente e segura da linguagem.\n",
    "\n",
    "#### Correção de bugs\n",
    "\n",
    "Assim como em qualquer software, o Python também pode conter bugs. As atualizações fornecem correções para esses bugs, melhorando a estabilidade e o desempenho do Python. Ao atualizar pelo terminal, você pode corrigir problemas conhecidos e aproveitar as melhorias implementadas nas versões mais recentes.\n",
    "\n",
    "#### Novos recursos\n",
    "\n",
    "Uma das vantagens de atualizar o Python pelo terminal é ter acesso aos novos recursos e funcionalidades adicionados nas versões mais recentes. As atualizações trazem melhorias significativas para a linguagem, como suporte a bibliotecas atualizadas, melhor desempenho e novas sintaxes. Manter-se atualizado permite que você aproveite esses recursos e mantenha-se atualizado com as tendências do Python.\n",
    "\n",
    "### Como atualizar o Python pelo terminal?\n",
    "\n",
    "1. Abra o terminal/prompt de comando.\n",
    "2. No Windows, o comando de atualização do Python é `python -m pip install –upgrade python`.\n",
    "3. Aguarde a instalação finalizar.\n",
    "4. Verifique novamente a versão do Python instalada.\n",
    "\n",
    "#### Como atualizar o Python no Linux\n",
    "\n",
    "1. Siga o tutorial nesse site: https://awari.com.br/como-atualizar-o-python-no-linux-guia-completo-e-pratico-2/\n",
    "\n",
    "### Fonte\n",
    "\n",
    "- https://awari.com.br/python-como-atualizar-pelo-terminal/"
   ]
  },
  {
   "cell_type": "markdown",
   "metadata": {},
   "source": [
    "\n",
    "\n",
    "## Visual Studio Code\n",
    "---\n"
   ]
  },
  {
   "cell_type": "markdown",
   "metadata": {},
   "source": [
    "\n",
    "O programa a ser utilizado nesse curso será o **Visual Studio Code**, mais conhecido como **VSCode**. Iremos instalar ele agora para podermos vinculá-lo ao Git, que será o próximo programa a ser instalado depois desse.\n",
    "\n"
   ]
  },
  {
   "cell_type": "markdown",
   "metadata": {},
   "source": [
    "<div style=\"display: flex; justify-content: center\">\n",
    "    <img src=\"../assets/vscode-logo-400x205.png\" alt=\"Visual Studio Code Logo\" />\n",
    "</div>"
   ]
  },
  {
   "cell_type": "markdown",
   "metadata": {},
   "source": [
    "Apesar de ter menos recursos nativos que o PyCharm, principal IDE para Python no mercado, o VSCode permite uma grande liberdade na hora da configuração do ambiente. Isto, aliado à gigantesca quantidade de _plug-ins_ disponíveis para o editor, permite um altíssimo nível de personalização do programa, fazendo com que o desenvolvedor deixe o software com a \"sua cara\". Além disso, podemos adicionar tantos recursos através dos plug-ins que no final o nosso VSCode terá tantos ou até mesmo mais recursos que a versão paga e mais completa do PyCharm. Isso tudo sem tirar um único centavo do bolso. Por esses motivos e também por outros que o VSCode é o **programa de desenvolvimento mais usado no mundo**. Tanto comparando com Editores de textos como IDEs.\n",
    "\n",
    "### Instalando o VSCode\n",
    "\n",
    "A instalação do VSCode é ainda mais simples:\n",
    "\n",
    "1. Vá até o site de download do VSCode: https://code.visualstudio.com/\n",
    "\n",
    "**Obs:** Não confundir com o programa Visual Studio IDE, que possui um nome parecido, uma logo parecida também, e ambos são da Micrososft."
   ]
  },
  {
   "cell_type": "markdown",
   "metadata": {},
   "source": [
    "<div style=\"display: flex; justify-content: center\">\n",
    "    <img src=\"../assets/janela-browser-vscode-download.png\" alt=\"Download do VSCode\" />\n",
    "</div>"
   ]
  },
  {
   "cell_type": "markdown",
   "metadata": {},
   "source": [
    "2. Faça o download normalmente para o seu Sistema Operacional.\n",
    "3. Abra o executável e inicie a instalação normalmente.\n",
    "4. Desta vez, não há nenhum procedimento especial durante a instalação. Apenas prossiga clicando em Next até concluir normalmente a instalação do programa.\n",
    "5. Após finalizar a instalação de todos os programas, para garantir que tudo vai dar certo, reinicie o computador.\n",
    "\n",
    "### Configurando o VSCode\n",
    "\n",
    "Após a reinicialização do seu computador, abra o VSCode para começarmos a configuração do programa.\n",
    "\n",
    "**Obs:** não é objetivo desse tutorial ensinar a mexer no VSCode. Isso será ensinado pelo professor em sala de aula. Entretanto serão ensinados como acessar os recursos conforme precisarmos deles durante as aulas seguintes.\n",
    "\n",
    "1. Ao abrir o VSCode pela primeira vez, essa será a tela a ser exibida:"
   ]
  },
  {
   "cell_type": "markdown",
   "metadata": {},
   "source": [
    "<div style=\"display: flex; justify-content: center\">\n",
    "    <img src=\"../assets/janela-vscode.png\" alt=\"Janela do VSCode\" />\n",
    "</div>"
   ]
  },
  {
   "cell_type": "markdown",
   "metadata": {},
   "source": [
    "2. A primeira coisa a se fazer após a instalação é instalar os plug-ins necessários para que possamos trabalhar com Python no VSCode. Portanto, clique no ícone **Extensões** do lado esquerdo da tela, conforme imagem abaixo:"
   ]
  },
  {
   "cell_type": "markdown",
   "metadata": {},
   "source": [
    "<div style=\"display: flex; justify-content: center\">\n",
    "    <img src=\"../assets/janela-vscode-botao-extensoes.png\" alt=\"Botão Extensões\" />\n",
    "</div>"
   ]
  },
  {
   "cell_type": "markdown",
   "metadata": {},
   "source": [
    "3. Em **Extensões**, ele irá listar as extensões instaladas, e irá sugerir outras. Podemos utilizar também a caixa **Pesquisar Extensões** para encontrar a extensão desejada.\n",
    "4. Começaremos instalando a extensão **Portuguese (Brazil) Language Pack for Visual Studio Code**. Basta digitar pelo seu nome na barra de pesquisa, conforme imagem abaixo:"
   ]
  },
  {
   "cell_type": "markdown",
   "metadata": {},
   "source": [
    "<div style=\"display: flex; justify-content: center\">\n",
    "    <img src=\"../assets/janela-vscode-idioma.png\" alt=\"Extensão do idioma\" />\n",
    "</div>"
   ]
  },
  {
   "cell_type": "markdown",
   "metadata": {},
   "source": [
    "5. Caso a extensão já esteja instalada, irá aparecer ao lado da extensão o desenho de uma engrenagem, indicando que já está instalada. Caso não esteja, no lugar da engrenagem, irá aparecer o botão **Instalar**.\n",
    "6. Agora vamos instalar mais duas extensões obrigatórias para o desenvolvimento do Python:\n",
    "- Python\n",
    "- Jupyter\n",
    "7. Basta pesquisar pelo nome dessas extensões e clicar no botão instalar, conforme indicado nas figuras abaixo:"
   ]
  },
  {
   "cell_type": "markdown",
   "metadata": {},
   "source": [
    "<div style=\"display: flex; justify-content: center\">\n",
    "    <img src=\"../assets/janela-vscode-extensao-python.png\" alt=\"Extensão Python\" />\n",
    "</div>"
   ]
  },
  {
   "cell_type": "markdown",
   "metadata": {},
   "source": [
    "<div style=\"display: flex; justify-content: center\">\n",
    "    <img src=\"../assets/janela-vscode-extensao-jupyter.png\" alt=\"Extensão Jupyter\" />\n",
    "</div>"
   ]
  },
  {
   "cell_type": "markdown",
   "metadata": {},
   "source": [
    "8. Essas extensões são suficientes, mas podemos incrementar ainda mais o VSCode para aprimorar nossa experiência, e não dependermos de nenhum outro programa externo para o desenvolvimento das aplicações. Portanto, procure e instale as extensões abaixo (em negrito estão as mais importantes):\n",
    "- **Comment Anchors**\n",
    "- Create Jupyter - Buttons\n",
    "- Data Preview\n",
    "- **Data Wrangler**\n",
    "- Django\n",
    "- Flet control wrap\n",
    "- Git Graph\n",
    "- Live Share\n",
    "- Live Share Whiteboard\n",
    "- **Material Icon Theme ou vscode-icons**\n",
    "- **SQLite Viewer**\n",
    "- **Polacode**\n",
    "- Python Environments\n",
    "\n",
    "9. Aproveite e instale também um tema do VSCode à sua escolha, para uma melhor personalização. As melhores sugestões estão logo abaixo:\n",
    "\n",
    "- Andromeda\n",
    "- Dracula\n",
    "- Monokai Pro\n",
    "- Night Owl\n",
    "- Night Wolf\n",
    "- One Dark Pro\n",
    "- PyCharm Theme\n",
    "- Synthwave 84"
   ]
  },
  {
   "cell_type": "markdown",
   "metadata": {},
   "source": [
    "## Git\n",
    "---"
   ]
  },
  {
   "cell_type": "markdown",
   "metadata": {},
   "source": [
    "O Git é um programa que trabalha com o chamado **versionamento** de código, importantíssimo para o controle das versões do seu programa e também para fins de backup, e para evitar perder trechos de códigos que funcionavam antes de uma determinada funcionalidade do seu sistema ser implementada.\n",
    "\n",
    "### Instalando o Git\n",
    "\n",
    "1. Abra o navegador e vá até o site do git: https://git-scm.com/"
   ]
  },
  {
   "cell_type": "markdown",
   "metadata": {},
   "source": [
    "<div style=\"display: flex; justify-content: center\">\n",
    "    <img src=\"../assets/janela-browser-git-download.png\" alt=\"Download do Git\" />\n",
    "</div>"
   ]
  },
  {
   "cell_type": "markdown",
   "metadata": {},
   "source": [
    "2. Depois, escolha a versão do Git a ser baixada. Escolheremos a versão 64 bits, conforme imagem abaixo:"
   ]
  },
  {
   "cell_type": "markdown",
   "metadata": {},
   "source": [
    "<div style=\"display: flex; justify-content: center\">\n",
    "    <img src=\"../assets/janela-browser-git-download-64-bits.png\" alt=\"Download do Git 64 bits\" />\n",
    "</div>"
   ]
  },
  {
   "cell_type": "markdown",
   "metadata": {},
   "source": [
    "3. Mais uma vez, a versão a ser instalada aqui é para Windows. Se estiver usando outro SO, procure saber como fazer as instalações para o seu Sistema Operacional.\n",
    "4. Escolha a versão do seu SO e faça o download.\n",
    "5. Ao término do download, abra o executável e inicie a instalação.\n",
    "6. Prossiga com a instalação até chegar na jenal abaixo:"
   ]
  },
  {
   "cell_type": "markdown",
   "metadata": {},
   "source": [
    "<div style=\"display: flex; justify-content: center\">\n",
    "    <img src=\"../assets/git-isntalacao-1.png\" alt=\"Instalação do Git passo 1\" width=700 />\n",
    "</div>"
   ]
  },
  {
   "cell_type": "markdown",
   "metadata": {},
   "source": [
    "7. Marque **TODAS** as caixinhas de seleção e clique em ***Next***.\n",
    "8. Vá dando ***Next*** até chegar no passo da imagem abaixo:"
   ]
  },
  {
   "cell_type": "markdown",
   "metadata": {},
   "source": [
    "<div style=\"display: flex; justify-content: center\">\n",
    "    <img src=\"../assets/git-isntalacao-2.png\" alt=\"Instalação do Git passo 2\" width=700 />\n",
    "</div>"
   ]
  },
  {
   "cell_type": "markdown",
   "metadata": {},
   "source": [
    "9. Como utilizaremos o **VSCode** para a codificação, trocaremos a opção **Use Vim...** para uma opção que começe com **Use VSCode...** ou então **Use Visual Studio Code...**.\n",
    "10. Vá prosseguindo com a instalação até o passo mostrado na imagem abaixo:"
   ]
  },
  {
   "cell_type": "markdown",
   "metadata": {},
   "source": [
    "<div style=\"display: flex; justify-content: center\">\n",
    "    <img src=\"../assets/git-isntalacao-3.png\" alt=\"Instalação do Git passo 3\" width=700 />\n",
    "</div>"
   ]
  },
  {
   "cell_type": "markdown",
   "metadata": {
    "vscode": {
     "languageId": "plaintext"
    }
   },
   "source": [
    "11. Ao chegar nesta tela, deixe marcado a opção **Git from the commando line and also from 3rd-party software**. Isso fará com que os comandos do Git sejam lidos também pelo VSCode.\n",
    "\n",
    "## Preparando o diretório dos nossos projetos\n",
    "---"
   ]
  },
  {
   "cell_type": "markdown",
   "metadata": {},
   "source": [
    "Para o melhor andamento do curso, é uma boa ideia preparar um diretório específico para armazenarmos os nossos projetos. Você pode fazer como achar melhor, mas o mais recomendado para este curso é seguir os passos abaixo:\n",
    "\n",
    "1. Acesse uma pasta desejada. Nesse caso, iremos acessar a pasta do usuário da máquina (na minha máquina é a pasta **Dev**).\n",
    "2. Crie uma pasta chamada **Workspace**.\n",
    "3. Abra a pasta Workspace, e dentro dela, crie uma outra pasta chamada **Python**.\n",
    "4. Abra a pasta Python, e dentro dela, crie uma pasta com a versão do Python que você irá utilizar nos seus projetos. A maioria dos nossos projetos irá utilizar a versão **3.13**. Esse, portanto, será o nome da nossa pasta.\n",
    "5. O objetivo de criarmos uma pasta para a versão é separar os ambientes virtuais das versões do Python. Isso significa que dentro da pasta **3.13** iremos reunir os projetos que utilizarão essa versão. Caso deseja utilizar outra versão, crie na pasta **Python** uma outra pasta com o nome da versão a ser utilizada, por exemplo: **3.12.7**.\n",
    "6. Abra o VSCode na pasta da versão desejada. Para o nosso exemplo, iremos usar a pasta **3.12.7**. Siga as imagens abaixo:"
   ]
  },
  {
   "cell_type": "markdown",
   "metadata": {},
   "source": [
    "<div style=\"display: flex; justify-content: center\">\n",
    "    <img src=\"../assets/janela-vscode-abrir_pasta.png\" alt=\"Abrir pasta\" />\n",
    "</div>"
   ]
  },
  {
   "cell_type": "markdown",
   "metadata": {},
   "source": [
    "<div style=\"display: flex; justify-content: center\">\n",
    "    <img src=\"../assets/abrir-janela-versao-python.png\" alt=\"Abrir pasta na pasta dos nossos projetos\" />\n",
    "</div>"
   ]
  },
  {
   "cell_type": "markdown",
   "metadata": {},
   "source": [
    "7. Uma vez a pasta aberta dentro do VSCode, vamos configurar o **ambiente virtual Python**."
   ]
  },
  {
   "cell_type": "markdown",
   "metadata": {},
   "source": [
    "## Ambiente Virtual Python\n",
    "---"
   ]
  },
  {
   "cell_type": "markdown",
   "metadata": {},
   "source": [
    "Para os nossos projetos iniciais que visam trabalhar com a parte de **Lógica de Programação**, os passos anteriores já bastam, e os algoritmos irão funcionar perfeitamente. A coisa muda de figura quando precisarmos da instalação de **pacotes externos**, o que inevitavelmente irá ocorrer a partir de um momento mais avançado no curso. Esses pacotes externos visam adicionar alguns recursos e comandos que não vem acompanhado nativamente na instalação do Python e aumentam as capacidades da linguagem, e possibilitam a criação de programas mais avançados.\n",
    "\n",
    "Caso esses pacotes sejam instalados diretamente na instância Global do Python, eles irão rodar assim que o SO da máquina for ligado, ocupando memória do computador, deixando o PC mais lento do que deveria, e ocupando espaço de programas que não irão utilizar esses pacotes.\n",
    "\n",
    "É aí onde entram os **Ambientes Virtuais Python**. O objetivo deles é isolar esses pacotes apenas nos projetos que, de fato, irão executá-los, e ativá-los apenas quando esses projetos forem executados, economizando recursos do computador. Para fazer essa configuração, siga os passos abaixo. Com o VSCode aberto na pasta onde salvaremos nossos projetos, como fizemos no passo anterior, vamos começar a criação do ambiente virtual. Há 3 formas de se criar um ambiente virtual. Você escolhe qual deseja seguir:"
   ]
  },
  {
   "cell_type": "markdown",
   "metadata": {},
   "source": [
    "### Forma 1\n",
    "\n",
    "1. Na pasta do projeto dentro do VSCode, aperte a tecla de função **F1** para acionar a caixa de pesquisa de opções.\n",
    "2. Procure pelo recurso **Python: Criar Ambiente...**, ou em inglês: **Python: Create Environment...**. Caso o recurso não apareça, digite pelo seu nome na caixa de pesquisa. Veja a imagem abaixo:"
   ]
  },
  {
   "cell_type": "markdown",
   "metadata": {},
   "source": [
    "<div style=\"display: flex; justify-content: center\">\n",
    "    <img src=\"../assets/venv-1-1.png\" alt=\"Criando venv, forma 1 passo 1\" />\n",
    "</div>"
   ]
  },
  {
   "cell_type": "markdown",
   "metadata": {},
   "source": [
    "3. Ao clicar em **Criar Ambiente...**, teremos que escolher qual ambiente Python iremos criar. Ele mostra 2 opções: **Venv** e **Conda**. O Ambiente **venv** é o mais usado. O ambiente **conda** é somente usado em máquinas que possuem o programa **Anaconda Navigator** isntalado, e é usado para Ciência de Dados. No nosso caso, iremos escolher a opção **Venv**, conforme imagem abaixo:"
   ]
  },
  {
   "cell_type": "markdown",
   "metadata": {},
   "source": [
    "<div style=\"display: flex; justify-content: center\">\n",
    "    <img src=\"../assets/venv-1-2.png\" alt=\"Criando venv forma 1 passo 2\" />\n",
    "</div>"
   ]
  },
  {
   "cell_type": "markdown",
   "metadata": {},
   "source": [
    "4. Logo após, iremos escolher a versão da instância do Python que desejaremos utilizar:"
   ]
  },
  {
   "cell_type": "markdown",
   "metadata": {},
   "source": [
    "<div style=\"display: flex; justify-content: center\">\n",
    "    <img src=\"../assets/venv-1-3.png\" alt=\"Criando venv forma 1 passo 3\" />\n",
    "</div>"
   ]
  },
  {
   "cell_type": "markdown",
   "metadata": {},
   "source": [
    "5. Se tudo der certo, uma pasta chamada `.venv` irá aparecer no diretório, conforme imagem abaixo:"
   ]
  },
  {
   "cell_type": "markdown",
   "metadata": {},
   "source": [
    "<div style=\"display: flex; justify-content: center\">\n",
    "    <img src=\"../assets/venv-1-4.png\" alt=\"Criando venv forma 1 passo 4\" />\n",
    "</div>"
   ]
  },
  {
   "cell_type": "markdown",
   "metadata": {},
   "source": [
    "6. A pasta `.venv` irá conter o nosso ambiente virtual, **e não deverá ser mexida**, nem enviada para o GitHub (assunto que será visto em aulas posteriores).\n",
    "7. Pronto! A partir de agora, todos os projetos que utilizarão a versão descrita na pasta deverão ser criados nesse diretório (fora da pasta `.venv`, é claro)."
   ]
  },
  {
   "cell_type": "markdown",
   "metadata": {},
   "source": [
    "### Forma 2\n",
    "\n",
    "> **Obs:** A Forma 2 atualmente não é mais possível, pois a extensão Python Environment Manger foi descontinuada. No lugar dela, pode-se usar a ***Python Environments***, lançada pela própria Microsoft. Essa nova extensão atualmente está em pre-release, mas funciona de forma idêntica.\n",
    "\n",
    "1. Uma outra forma é através da extensão do VSCode **Python Environment Manager**. Ela é opcional, mas pode servir de grande ajuda na criação e gerenciamento das versões dos ambientes virtuais do Python no PC. Você pode começar baixando a extensão no gerenciador de extensões do VSCode, conforme imagem abaixo:"
   ]
  },
  {
   "cell_type": "markdown",
   "metadata": {},
   "source": [
    "<div style=\"display: flex; justify-content: center\">\n",
    "    <img src=\"../assets/venv-2-1.png\" alt=\"Python Environment 1\" />\n",
    "</div>"
   ]
  },
  {
   "cell_type": "markdown",
   "metadata": {},
   "source": [
    "2. Após instalar a extensão, irá aparecer um botão na **Barra de Atividades** relacionada ao Python. Clique nela para aparecer o painel de gerenciamento do ambiente virtual python, conforme imagem abaixo:"
   ]
  },
  {
   "cell_type": "markdown",
   "metadata": {},
   "source": [
    "<div style=\"display: flex; justify-content: center\">\n",
    "    <img src=\"../assets/venv-2-2.png\" alt=\"Python Environment 2\" />\n",
    "</div>"
   ]
  },
  {
   "cell_type": "markdown",
   "metadata": {},
   "source": [
    "3. No Painel **Global Environments**, ao clicar na setinha do **Global**, ele irá mostrar todas as versões globais instaladas no seu computador, o que é ideal para o controle das versões do Python:"
   ]
  },
  {
   "cell_type": "markdown",
   "metadata": {},
   "source": [
    "<div style=\"display: flex; justify-content: center\">\n",
    "    <img src=\"../assets/venv-2-3.png\" alt=\"Python Environment 3\" />\n",
    "</div>"
   ]
  },
  {
   "cell_type": "markdown",
   "metadata": {},
   "source": [
    "4. No painel **Workspace Environments** irá aparecer o botão de **+**. Ele irá iniciar o procedimento para a criação de um novo ambiente virtual Python:"
   ]
  },
  {
   "cell_type": "markdown",
   "metadata": {},
   "source": [
    "<div style=\"display: flex; justify-content: center\">\n",
    "    <img src=\"../assets/venv-2-4.png\" alt=\"Python Environment 4\" />\n",
    "</div>"
   ]
  },
  {
   "cell_type": "markdown",
   "metadata": {},
   "source": [
    "5. Após isso, ele irá iniciar os mesmos procedimentos visto na forma 1 a partir do passo 3. É só seguir."
   ]
  },
  {
   "cell_type": "markdown",
   "metadata": {},
   "source": [
    "### Forma 3\n",
    "\n",
    "1. Na forma 3 você irá usar única e exclusivamente o **CLI** (Command Line Interface, ou em português: Interface de Linha de Comando). Abra o terminal dentro da pasta e digite o comando `python -m venv .venv`:"
   ]
  },
  {
   "cell_type": "markdown",
   "metadata": {},
   "source": [
    "<div style=\"display: flex; justify-content: center\">\n",
    "    <img src=\"../assets/venv-3-1.png\" alt=\"Forma 3 passo 1\" />\n",
    "</div>"
   ]
  },
  {
   "cell_type": "markdown",
   "metadata": {},
   "source": [
    "2. Isso é o suficiente para criar um novo ambiente virtual baseado na versão global principal do seu PC. Caso dê certo, ele irá mostrar uma janela de confirmação pedindo para ativar o ambiente virtual na pasta, conforme imagem abaixo:"
   ]
  },
  {
   "cell_type": "markdown",
   "metadata": {},
   "source": [
    "<div style=\"display: flex; justify-content: center\">\n",
    "    <img src=\"../assets/venv-3-2.png\" alt=\"Venv forma 3 passo 2\" />\n",
    "</div>"
   ]
  },
  {
   "cell_type": "markdown",
   "metadata": {},
   "source": [
    "3. Caso a mensagem no VSCode não apareça, é só ativar o ambiente virutal através do comando `.venv/Scripts/activate` no terminal.\n",
    "\n",
    "> **Obs:** caso o comando `.venv\\Scripts\\activate` não funcione, vai aparecer a mensagem abaixo no seu terminal:\n",
    ">\n",
    "> **<div style=\"background-color: #000\"><span style=\"color: #f00;\">.venv\\Scripts\\activate : O arquivo C:\\Users\\Dev\\Workspaces\\Python\\3.13\\testes\\.venv\\Scripts\\Activate.ps1 não pode ser carregado porque a execução de scripts foi desabilitada neste sistema.</span></div>**\n",
    ">\n",
    "> O erro ocorre porque a execução de scripts do PowerShell está desabilitada e o script activate.ps1 do seu ambiente virtual Python está sendo impedido de ser executado. Para corrigir, você precisa alterar a política de execução do PowerShell, permitindo a execução de scripts, ou desativar temporariamente a proteção. \n",
    ">\n",
    "> Para corrigí-lo, siga os passos abaixo:\n",
    ">\n",
    "> **1. Abrir o PowerShell como administrador:** Clique no botão Iniciar do Windows, procure por \"PowerShell\" e clique com o botão direito do mouse no resultado e selecione \"Executar como administrador\".\n",
    ">\n",
    "> **2. Alterar a política de execução:** Digite o seguinte comando no PowerShell e pressione Enter: `Set-ExecutionPolicy RemoteSigned`. Este comando permite que o PowerShell carregue e execute scripts assinados digitalmente.\n",
    ">\n",
    "> **3. Confirme a alteração:** O PowerShell perguntará se você deseja alterar a política de execução. Digite \"S\" para confirmar ou \"A\" para confirmar tudo e pressione Enter.\n",
    ">\n",
    "> **4. Recomeçar o PowerShell:** Feche a janela do PowerShell e abra uma nova janela para que as mudanças da política de execução surtam efeito.\n",
    ">\n",
    "> **5. Executar o comando de ativação do ambiente virtual:** Execute o comando `.venv\\Scripts\\activate` novamente.\n",
    ">\n",
    "> Outra alternativa é alterar o Terminal de PowerShell, que é o padrão, para CMD, e tentar executar o comando de novo.\n",
    ">\n",
    "> Em todos os casos, se der certo, irá aparecer `(.venv)` antes do diretório do comando."
   ]
  },
  {
   "cell_type": "markdown",
   "metadata": {},
   "source": [
    "\n",
    "#### **Após essa configuração, seu computador finalmente vai estar preparado para codificar em Python!!!**"
   ]
  },
  {
   "cell_type": "markdown",
   "metadata": {},
   "source": [
    "## Opcional: **Anaconda Navigator**\n",
    "---"
   ]
  },
  {
   "cell_type": "markdown",
   "metadata": {},
   "source": [
    "<div style=\"display: flex; justify-content: center\">\n",
    "    <img src=\"../assets/logoanaconda.png\" alt=\"Anaconda Logo\" />\n",
    "</div>"
   ]
  },
  {
   "cell_type": "markdown",
   "metadata": {},
   "source": [
    "O Python é uma das melhores, se não for a melhor, opção atualmente para ciência de dados e inteligência artificial, e junto com ele vem diversas ferramentas para ajudar o desenvolvedor nessa tarefa. Uma forma opcional de configurar o ambiente da sua máquina para o desenvolvimento Python, caso o objetivo seja mineração de dados é instalar o **Anaconda Navigator**.\n",
    "\n",
    "O **Anaconda Navigator** é um _launcher_ que funciona como um pacote de aplicativos voltados para ciência de dados, ou seja, ele centraliza em uma única solução tudo o que você precisa para trabalhar com ciência de dados. Uma das vantagens de se instalar esse _software_ é que ele já instala automaticamente muitas das ferramentas a serem utilizadas por esse tipo de profissional. Por exemplo, ele já instala uma versão do Python, do Jupyter Notebook e do Jupyter Lab, sem necessidade de instalação prévia dessas aplicações. Ele também pode reconhecer algumas aplicações previamente instaladas e reuní-las dentro do _launcher_ do Anaconda, como o VSCode e o PyCharm.\n",
    "\n",
    "Por ser um _software_ relativamente pesado, e mais voltado para ciência de dados do que para outros tipos de atividades, inicialmente não iremos trabalhar com ele, mas sinta-se à vontade para isntalá-lo e utilizá-lo para desenvolver suas soluções em Python. A isntalação desse programa é feita da forma tradicional para os usuários de Windows: indo no site de download (https://www.anaconda.com/anaconda-navigator), baixando o executável e instalando normalmente, clicando em **Next -> next -> Install -> Finish**, conforme o instalador for pedindo, e ao final da instalação, você terá o Python e todas as soluções que precisar reunidas dentro do Anaconda."
   ]
  },
  {
   "cell_type": "markdown",
   "metadata": {},
   "source": [
    "## Exercícios\n",
    "---"
   ]
  },
  {
   "cell_type": "markdown",
   "metadata": {},
   "source": [
    "### 1. Qual programa iremos utilizar para desenvolver códigos Python?\n",
    "\n",
    "<form>\n",
    "    <input type=\"radio\" name=\"1\" unchecked /><span>VSCode</span><br />\n",
    "    <input type=\"radio\" name=\"1\" unchecked /><span>Python</span><br />\n",
    "    <input type=\"radio\" name=\"1\" unchecked /><span>Git</span><br />\n",
    "    <input type=\"radio\" name=\"1\" unchecked /><span>Visual Studio IDE</span><br />\n",
    "</form>"
   ]
  },
  {
   "cell_type": "markdown",
   "metadata": {},
   "source": [
    "### 2. Qual a função do Git?\n",
    "\n",
    "<form>\n",
    "    <input type=\"radio\" name=\"2\" unchecked /><span>Desenvolver códigos Python</span><br />\n",
    "    <input type=\"radio\" name=\"2\" unchecked /><span>Versionar códigos</span><br />\n",
    "    <input type=\"radio\" name=\"2\" unchecked /><span>Executar códgios</span><br />\n",
    "    <input type=\"radio\" name=\"2\" unchecked /><span>Preparar uma Receita de Bolo</span><br />\n",
    "</form>"
   ]
  },
  {
   "cell_type": "markdown",
   "metadata": {},
   "source": [
    "### 3. Qual a extensão de um arquivo Python?\n",
    "\n",
    "<form>\n",
    "    <input type=\"radio\" name=\"3\" unchecked /><span>.java</span><br />\n",
    "    <input type=\"radio\" name=\"3\" unchecked /><span>.python</span><br />\n",
    "    <input type=\"radio\" name=\"3\" unchecked /><span>.py</span><br />\n",
    "    <input type=\"radio\" name=\"3\" unchecked /><span>.exe</span><br />\n",
    "</form>"
   ]
  },
  {
   "cell_type": "markdown",
   "metadata": {},
   "source": [
    "### 4. Marque abaixo o nome das extensões necessárias para codificação Python no VSCode:\n",
    "\n",
    "<form>\n",
    "    <input type=\"checkbox\" name=\"4\" unchecked /><span>Python</span><br />\n",
    "    <input type=\"checkbox\" name=\"4\" unchecked /><span>Live Server</span><br />\n",
    "    <input type=\"checkbox\" name=\"4\" unchecked /><span>Synthwave 84 Theme</span><br />\n",
    "    <input type=\"checkbox\" name=\"4\" unchecked /><span>Jupyter</span><br />\n",
    "</form>"
   ]
  }
 ],
 "metadata": {
  "kernelspec": {
   "display_name": ".venv (3.13.3)",
   "language": "python",
   "name": "python3"
  },
  "language_info": {
   "name": "python",
   "version": "3.13.3"
  }
 },
 "nbformat": 4,
 "nbformat_minor": 2
}
